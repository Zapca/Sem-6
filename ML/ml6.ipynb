{
 "cells": [
  {
   "cell_type": "code",
   "execution_count": 5,
   "metadata": {},
   "outputs": [],
   "source": [
    "import pandas as pd \n",
    "import numpy as np"
   ]
  },
  {
   "cell_type": "code",
   "execution_count": 8,
   "metadata": {},
   "outputs": [],
   "source": [
    "def mcculloch_pitt(x1 , x2 , y ,w1 , w2 ,t ):\n",
    "    d = []\n",
    "    y_in_list = []\n",
    "    for i in range(len(y)):\n",
    "        y_in = w1 * x1[i] + w2 * x2[i]\n",
    "        if y_in >= t :    \n",
    "            y_in_list.append(1)\n",
    "        else :\n",
    "            y_in_list.append(0)\n",
    "        d.append([x1[i], x2[i] , y[i] , y_in])\n",
    "    df = pd.DataFrame(d , columns = ['x1' , 'x2' , 'y' , 'y_in'])\n",
    "    print(df)\n",
    "\n",
    "    if np.equal(y_in_list,y).all() :\n",
    "        print(\"Correct\")\n",
    "    else : \n",
    "        print(\"Wrong , re run the code \")"
   ]
  },
  {
   "cell_type": "code",
   "execution_count": 9,
   "metadata": {},
   "outputs": [
    {
     "name": "stdout",
     "output_type": "stream",
     "text": [
      "   x1  x2  y  y_in\n",
      "0   0   0  0     0\n",
      "1   0   1  1     1\n",
      "2   1   0  1     1\n",
      "3   1   1  1     2\n",
      "Correct\n"
     ]
    }
   ],
   "source": [
    "w1 = int(input(\"Enter the value of weight 1 \"))\n",
    "w2 = int(input(\"Enter the value of weight 2 \"))\n",
    "t = int(input(\"Enter the value of threshold \"))\n",
    "mcculloch_pitt([0,0,1,1],[0,1,0,1],[0,1,1,1],w1 , w2 ,t)"
   ]
  },
  {
   "cell_type": "code",
   "execution_count": null,
   "metadata": {},
   "outputs": [],
   "source": []
  }
 ],
 "metadata": {
  "kernelspec": {
   "display_name": "Python 3",
   "language": "python",
   "name": "python3"
  },
  "language_info": {
   "codemirror_mode": {
    "name": "ipython",
    "version": 3
   },
   "file_extension": ".py",
   "mimetype": "text/x-python",
   "name": "python",
   "nbconvert_exporter": "python",
   "pygments_lexer": "ipython3",
   "version": "3.12.1"
  }
 },
 "nbformat": 4,
 "nbformat_minor": 2
}
